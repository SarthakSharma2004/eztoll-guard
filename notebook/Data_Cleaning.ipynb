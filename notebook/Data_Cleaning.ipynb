{
 "cells": [
  {
   "cell_type": "markdown",
   "id": "3efbddef",
   "metadata": {},
   "source": [
    "# 🚧 EZTollGuard"
   ]
  },
  {
   "cell_type": "markdown",
   "id": "e240da69",
   "metadata": {},
   "source": [
    "<!-- ------------- -->"
   ]
  },
  {
   "cell_type": "markdown",
   "id": "3f390f5d",
   "metadata": {},
   "source": [
    "# 🧠 Problem Statement"
   ]
  },
  {
   "cell_type": "markdown",
   "id": "a1f1e607",
   "metadata": {},
   "source": [
    "With the rise of digital toll collection via FASTag, toll operators are facing increasing cases of fraudulent transactions — such as vehicle misclassification, lane misuse, underpayment, and speed bypassing — which lead to revenue loss and operational inefficienc"
   ]
  },
  {
   "cell_type": "markdown",
   "id": "fdf443d3",
   "metadata": {},
   "source": [
    "<!-- ---- -->"
   ]
  },
  {
   "cell_type": "markdown",
   "id": "f1859200",
   "metadata": {},
   "source": [
    "# 🎯 Objective"
   ]
  },
  {
   "cell_type": "markdown",
   "id": "c0a77bcf",
   "metadata": {},
   "source": [
    "To develop a machine learning model that detects potential FASTag fraud in real time by analyzing transaction, vehicle, and temporal data — enabling toll operators to reduce revenue leakage and improve toll security."
   ]
  },
  {
   "cell_type": "markdown",
   "id": "68b9c370",
   "metadata": {},
   "source": [
    "<!-- --- -->"
   ]
  },
  {
   "cell_type": "markdown",
   "id": "853ce84d",
   "metadata": {},
   "source": [
    "# DATA CLEANING "
   ]
  },
  {
   "cell_type": "markdown",
   "id": "0e759e2b",
   "metadata": {},
   "source": [
    "<!-- -- -->"
   ]
  },
  {
   "cell_type": "markdown",
   "id": "7134702a",
   "metadata": {},
   "source": [
    "IMPORTING LIBRARIES"
   ]
  },
  {
   "cell_type": "code",
   "execution_count": 199,
   "id": "0e365bb3",
   "metadata": {},
   "outputs": [],
   "source": [
    "import pandas as pd"
   ]
  },
  {
   "cell_type": "markdown",
   "id": "8883a014",
   "metadata": {},
   "source": [
    "<!-- --- -->"
   ]
  },
  {
   "cell_type": "markdown",
   "id": "78c29726",
   "metadata": {},
   "source": [
    "READING THE DATASET"
   ]
  },
  {
   "cell_type": "code",
   "execution_count": 200,
   "id": "2686c4e9",
   "metadata": {},
   "outputs": [],
   "source": [
    "df = pd.read_csv('/Users/sarthaksharna/Downloads/FastagFraudDetection.csv')"
   ]
  },
  {
   "cell_type": "code",
   "execution_count": 201,
   "id": "da2d1020",
   "metadata": {},
   "outputs": [
    {
     "data": {
      "text/html": [
       "<div>\n",
       "<style scoped>\n",
       "    .dataframe tbody tr th:only-of-type {\n",
       "        vertical-align: middle;\n",
       "    }\n",
       "\n",
       "    .dataframe tbody tr th {\n",
       "        vertical-align: top;\n",
       "    }\n",
       "\n",
       "    .dataframe thead th {\n",
       "        text-align: right;\n",
       "    }\n",
       "</style>\n",
       "<table border=\"1\" class=\"dataframe\">\n",
       "  <thead>\n",
       "    <tr style=\"text-align: right;\">\n",
       "      <th></th>\n",
       "      <th>Transaction_ID</th>\n",
       "      <th>Timestamp</th>\n",
       "      <th>Vehicle_Type</th>\n",
       "      <th>FastagID</th>\n",
       "      <th>TollBoothID</th>\n",
       "      <th>Lane_Type</th>\n",
       "      <th>Vehicle_Dimensions</th>\n",
       "      <th>Transaction_Amount</th>\n",
       "      <th>Amount_paid</th>\n",
       "      <th>Geographical_Location</th>\n",
       "      <th>Vehicle_Speed</th>\n",
       "      <th>Vehicle_Plate_Number</th>\n",
       "      <th>Fraud_indicator</th>\n",
       "    </tr>\n",
       "  </thead>\n",
       "  <tbody>\n",
       "    <tr>\n",
       "      <th>0</th>\n",
       "      <td>1</td>\n",
       "      <td>1/6/2023 11:20</td>\n",
       "      <td>Bus</td>\n",
       "      <td>FTG-001-ABC-121</td>\n",
       "      <td>A-101</td>\n",
       "      <td>Express</td>\n",
       "      <td>Large</td>\n",
       "      <td>350</td>\n",
       "      <td>120</td>\n",
       "      <td>13.059816123454882, 77.77068662374292</td>\n",
       "      <td>65</td>\n",
       "      <td>KA11AB1234</td>\n",
       "      <td>Fraud</td>\n",
       "    </tr>\n",
       "    <tr>\n",
       "      <th>1</th>\n",
       "      <td>2</td>\n",
       "      <td>1/7/2023 14:55</td>\n",
       "      <td>Car</td>\n",
       "      <td>FTG-002-XYZ-451</td>\n",
       "      <td>B-102</td>\n",
       "      <td>Regular</td>\n",
       "      <td>Small</td>\n",
       "      <td>120</td>\n",
       "      <td>100</td>\n",
       "      <td>13.059816123454882, 77.77068662374292</td>\n",
       "      <td>78</td>\n",
       "      <td>KA66CD5678</td>\n",
       "      <td>Fraud</td>\n",
       "    </tr>\n",
       "    <tr>\n",
       "      <th>2</th>\n",
       "      <td>3</td>\n",
       "      <td>1/8/2023 18:25</td>\n",
       "      <td>Motorcycle</td>\n",
       "      <td>NaN</td>\n",
       "      <td>D-104</td>\n",
       "      <td>Regular</td>\n",
       "      <td>Small</td>\n",
       "      <td>0</td>\n",
       "      <td>0</td>\n",
       "      <td>13.059816123454882, 77.77068662374292</td>\n",
       "      <td>53</td>\n",
       "      <td>KA88EF9012</td>\n",
       "      <td>Not Fraud</td>\n",
       "    </tr>\n",
       "    <tr>\n",
       "      <th>3</th>\n",
       "      <td>4</td>\n",
       "      <td>1/9/2023 2:05</td>\n",
       "      <td>Truck</td>\n",
       "      <td>FTG-044-LMN-322</td>\n",
       "      <td>C-103</td>\n",
       "      <td>Regular</td>\n",
       "      <td>Large</td>\n",
       "      <td>350</td>\n",
       "      <td>120</td>\n",
       "      <td>13.059816123454882, 77.77068662374292</td>\n",
       "      <td>92</td>\n",
       "      <td>KA11GH3456</td>\n",
       "      <td>Fraud</td>\n",
       "    </tr>\n",
       "    <tr>\n",
       "      <th>4</th>\n",
       "      <td>5</td>\n",
       "      <td>1/10/2023 6:35</td>\n",
       "      <td>Van</td>\n",
       "      <td>FTG-505-DEF-652</td>\n",
       "      <td>B-102</td>\n",
       "      <td>Express</td>\n",
       "      <td>Medium</td>\n",
       "      <td>140</td>\n",
       "      <td>100</td>\n",
       "      <td>13.059816123454882, 77.77068662374292</td>\n",
       "      <td>60</td>\n",
       "      <td>KA44IJ6789</td>\n",
       "      <td>Fraud</td>\n",
       "    </tr>\n",
       "  </tbody>\n",
       "</table>\n",
       "</div>"
      ],
      "text/plain": [
       "   Transaction_ID       Timestamp Vehicle_Type         FastagID TollBoothID  \\\n",
       "0               1  1/6/2023 11:20         Bus   FTG-001-ABC-121       A-101   \n",
       "1               2  1/7/2023 14:55          Car  FTG-002-XYZ-451       B-102   \n",
       "2               3  1/8/2023 18:25   Motorcycle              NaN       D-104   \n",
       "3               4   1/9/2023 2:05        Truck  FTG-044-LMN-322       C-103   \n",
       "4               5  1/10/2023 6:35          Van  FTG-505-DEF-652       B-102   \n",
       "\n",
       "  Lane_Type Vehicle_Dimensions  Transaction_Amount  Amount_paid  \\\n",
       "0   Express              Large                 350          120   \n",
       "1   Regular              Small                 120          100   \n",
       "2   Regular              Small                   0            0   \n",
       "3   Regular              Large                 350          120   \n",
       "4   Express             Medium                 140          100   \n",
       "\n",
       "                   Geographical_Location  Vehicle_Speed Vehicle_Plate_Number  \\\n",
       "0  13.059816123454882, 77.77068662374292             65           KA11AB1234   \n",
       "1  13.059816123454882, 77.77068662374292             78           KA66CD5678   \n",
       "2  13.059816123454882, 77.77068662374292             53           KA88EF9012   \n",
       "3  13.059816123454882, 77.77068662374292             92           KA11GH3456   \n",
       "4  13.059816123454882, 77.77068662374292             60           KA44IJ6789   \n",
       "\n",
       "  Fraud_indicator  \n",
       "0           Fraud  \n",
       "1           Fraud  \n",
       "2       Not Fraud  \n",
       "3           Fraud  \n",
       "4           Fraud  "
      ]
     },
     "execution_count": 201,
     "metadata": {},
     "output_type": "execute_result"
    }
   ],
   "source": [
    "df.head()"
   ]
  },
  {
   "cell_type": "code",
   "execution_count": 202,
   "id": "46d1f6d6",
   "metadata": {},
   "outputs": [
    {
     "data": {
      "text/plain": [
       "(5000, 13)"
      ]
     },
     "execution_count": 202,
     "metadata": {},
     "output_type": "execute_result"
    }
   ],
   "source": [
    "df.shape"
   ]
  },
  {
   "cell_type": "markdown",
   "id": "f0d23abe",
   "metadata": {},
   "source": [
    "<!-- ----- -->"
   ]
  },
  {
   "cell_type": "markdown",
   "id": "03be779f",
   "metadata": {},
   "source": [
    "GETTING THE PERCENTAGE AND ABSOLUTE NUMBER OF MISSING VALUES"
   ]
  },
  {
   "cell_type": "code",
   "execution_count": 203,
   "id": "b5cc32e6",
   "metadata": {},
   "outputs": [
    {
     "name": "stdout",
     "output_type": "stream",
     "text": [
      "Percentage of missing values in each column :  \n",
      "\n"
     ]
    },
    {
     "data": {
      "text/plain": [
       "FastagID                 10.979999999999999%\n",
       "Transaction_ID                          0.0%\n",
       "Timestamp                               0.0%\n",
       "Vehicle_Type                            0.0%\n",
       "TollBoothID                             0.0%\n",
       "Lane_Type                               0.0%\n",
       "Vehicle_Dimensions                      0.0%\n",
       "Transaction_Amount                      0.0%\n",
       "Amount_paid                             0.0%\n",
       "Geographical_Location                   0.0%\n",
       "Vehicle_Speed                           0.0%\n",
       "Vehicle_Plate_Number                    0.0%\n",
       "Fraud_indicator                         0.0%\n",
       "dtype: object"
      ]
     },
     "execution_count": 203,
     "metadata": {},
     "output_type": "execute_result"
    }
   ],
   "source": [
    "missing_percent = df.isnull().mean()*100\n",
    "\n",
    "missing_percent = missing_percent.astype(str).sort_values(ascending=False) + '%' \n",
    "\n",
    "print(\"Percentage of missing values in each column : \", '\\n')\n",
    "\n",
    "missing_percent\n",
    "\n"
   ]
  },
  {
   "cell_type": "code",
   "execution_count": 204,
   "id": "d910abc0",
   "metadata": {},
   "outputs": [
    {
     "name": "stdout",
     "output_type": "stream",
     "text": [
      "Number of missing values FatagID :  \n",
      "\n",
      "549\n"
     ]
    }
   ],
   "source": [
    "print(\"Number of missing values FatagID : \", '\\n')\n",
    "\n",
    "print(df['FastagID'].isnull().sum())"
   ]
  },
  {
   "cell_type": "markdown",
   "id": "826c5f76",
   "metadata": {},
   "source": [
    "<!-- --------------- -->"
   ]
  },
  {
   "cell_type": "markdown",
   "id": "6967edd4",
   "metadata": {},
   "source": [
    "DROPPING ROWS WITH MISSING VALUES AS THERE ARE ONLY 549"
   ]
  },
  {
   "cell_type": "code",
   "execution_count": 205,
   "id": "6fc49f23",
   "metadata": {},
   "outputs": [],
   "source": [
    "df.dropna(subset=['FastagID'], inplace=True)"
   ]
  },
  {
   "cell_type": "markdown",
   "id": "660409ca",
   "metadata": {},
   "source": [
    "<!-- ---- -->"
   ]
  },
  {
   "cell_type": "markdown",
   "id": "fce515fa",
   "metadata": {},
   "source": [
    "DATASET EXPLORATION"
   ]
  },
  {
   "cell_type": "code",
   "execution_count": 206,
   "id": "cae8f943",
   "metadata": {},
   "outputs": [
    {
     "name": "stdout",
     "output_type": "stream",
     "text": [
      "<class 'pandas.core.frame.DataFrame'>\n",
      "Index: 4451 entries, 0 to 4999\n",
      "Data columns (total 13 columns):\n",
      " #   Column                 Non-Null Count  Dtype \n",
      "---  ------                 --------------  ----- \n",
      " 0   Transaction_ID         4451 non-null   int64 \n",
      " 1   Timestamp              4451 non-null   object\n",
      " 2   Vehicle_Type           4451 non-null   object\n",
      " 3   FastagID               4451 non-null   object\n",
      " 4   TollBoothID            4451 non-null   object\n",
      " 5   Lane_Type              4451 non-null   object\n",
      " 6   Vehicle_Dimensions     4451 non-null   object\n",
      " 7   Transaction_Amount     4451 non-null   int64 \n",
      " 8   Amount_paid            4451 non-null   int64 \n",
      " 9   Geographical_Location  4451 non-null   object\n",
      " 10  Vehicle_Speed          4451 non-null   int64 \n",
      " 11  Vehicle_Plate_Number   4451 non-null   object\n",
      " 12  Fraud_indicator        4451 non-null   object\n",
      "dtypes: int64(4), object(9)\n",
      "memory usage: 486.8+ KB\n"
     ]
    }
   ],
   "source": [
    "df.info()"
   ]
  },
  {
   "cell_type": "code",
   "execution_count": 207,
   "id": "005d202a",
   "metadata": {},
   "outputs": [
    {
     "data": {
      "text/html": [
       "<div>\n",
       "<style scoped>\n",
       "    .dataframe tbody tr th:only-of-type {\n",
       "        vertical-align: middle;\n",
       "    }\n",
       "\n",
       "    .dataframe tbody tr th {\n",
       "        vertical-align: top;\n",
       "    }\n",
       "\n",
       "    .dataframe thead th {\n",
       "        text-align: right;\n",
       "    }\n",
       "</style>\n",
       "<table border=\"1\" class=\"dataframe\">\n",
       "  <thead>\n",
       "    <tr style=\"text-align: right;\">\n",
       "      <th></th>\n",
       "      <th>Transaction_ID</th>\n",
       "      <th>Transaction_Amount</th>\n",
       "      <th>Amount_paid</th>\n",
       "      <th>Vehicle_Speed</th>\n",
       "    </tr>\n",
       "  </thead>\n",
       "  <tbody>\n",
       "    <tr>\n",
       "      <th>count</th>\n",
       "      <td>4451.000000</td>\n",
       "      <td>4451.000000</td>\n",
       "      <td>4451.000000</td>\n",
       "      <td>4451.000000</td>\n",
       "    </tr>\n",
       "    <tr>\n",
       "      <th>mean</th>\n",
       "      <td>2466.227140</td>\n",
       "      <td>180.927881</td>\n",
       "      <td>158.684565</td>\n",
       "      <td>67.884745</td>\n",
       "    </tr>\n",
       "    <tr>\n",
       "      <th>std</th>\n",
       "      <td>1428.941144</td>\n",
       "      <td>103.004437</td>\n",
       "      <td>99.857565</td>\n",
       "      <td>16.632295</td>\n",
       "    </tr>\n",
       "    <tr>\n",
       "      <th>min</th>\n",
       "      <td>1.000000</td>\n",
       "      <td>0.000000</td>\n",
       "      <td>0.000000</td>\n",
       "      <td>10.000000</td>\n",
       "    </tr>\n",
       "    <tr>\n",
       "      <th>25%</th>\n",
       "      <td>1254.500000</td>\n",
       "      <td>110.000000</td>\n",
       "      <td>100.000000</td>\n",
       "      <td>55.000000</td>\n",
       "    </tr>\n",
       "    <tr>\n",
       "      <th>50%</th>\n",
       "      <td>2405.000000</td>\n",
       "      <td>140.000000</td>\n",
       "      <td>120.000000</td>\n",
       "      <td>67.000000</td>\n",
       "    </tr>\n",
       "    <tr>\n",
       "      <th>75%</th>\n",
       "      <td>3702.500000</td>\n",
       "      <td>300.000000</td>\n",
       "      <td>180.000000</td>\n",
       "      <td>82.000000</td>\n",
       "    </tr>\n",
       "    <tr>\n",
       "      <th>max</th>\n",
       "      <td>5000.000000</td>\n",
       "      <td>350.000000</td>\n",
       "      <td>350.000000</td>\n",
       "      <td>118.000000</td>\n",
       "    </tr>\n",
       "  </tbody>\n",
       "</table>\n",
       "</div>"
      ],
      "text/plain": [
       "       Transaction_ID  Transaction_Amount  Amount_paid  Vehicle_Speed\n",
       "count     4451.000000         4451.000000  4451.000000    4451.000000\n",
       "mean      2466.227140          180.927881   158.684565      67.884745\n",
       "std       1428.941144          103.004437    99.857565      16.632295\n",
       "min          1.000000            0.000000     0.000000      10.000000\n",
       "25%       1254.500000          110.000000   100.000000      55.000000\n",
       "50%       2405.000000          140.000000   120.000000      67.000000\n",
       "75%       3702.500000          300.000000   180.000000      82.000000\n",
       "max       5000.000000          350.000000   350.000000     118.000000"
      ]
     },
     "execution_count": 207,
     "metadata": {},
     "output_type": "execute_result"
    }
   ],
   "source": [
    "df.describe()"
   ]
  },
  {
   "cell_type": "markdown",
   "id": "60cb5c1f",
   "metadata": {},
   "source": [
    "<!-- --- -->"
   ]
  },
  {
   "cell_type": "markdown",
   "id": "5393f476",
   "metadata": {},
   "source": [
    "CHECKING DUPLICATES"
   ]
  },
  {
   "cell_type": "code",
   "execution_count": 208,
   "id": "27ae344a",
   "metadata": {},
   "outputs": [
    {
     "data": {
      "text/html": [
       "<div>\n",
       "<style scoped>\n",
       "    .dataframe tbody tr th:only-of-type {\n",
       "        vertical-align: middle;\n",
       "    }\n",
       "\n",
       "    .dataframe tbody tr th {\n",
       "        vertical-align: top;\n",
       "    }\n",
       "\n",
       "    .dataframe thead th {\n",
       "        text-align: right;\n",
       "    }\n",
       "</style>\n",
       "<table border=\"1\" class=\"dataframe\">\n",
       "  <thead>\n",
       "    <tr style=\"text-align: right;\">\n",
       "      <th></th>\n",
       "      <th>Transaction_ID</th>\n",
       "      <th>Timestamp</th>\n",
       "      <th>Vehicle_Type</th>\n",
       "      <th>FastagID</th>\n",
       "      <th>TollBoothID</th>\n",
       "      <th>Lane_Type</th>\n",
       "      <th>Vehicle_Dimensions</th>\n",
       "      <th>Transaction_Amount</th>\n",
       "      <th>Amount_paid</th>\n",
       "      <th>Geographical_Location</th>\n",
       "      <th>Vehicle_Speed</th>\n",
       "      <th>Vehicle_Plate_Number</th>\n",
       "      <th>Fraud_indicator</th>\n",
       "    </tr>\n",
       "  </thead>\n",
       "  <tbody>\n",
       "  </tbody>\n",
       "</table>\n",
       "</div>"
      ],
      "text/plain": [
       "Empty DataFrame\n",
       "Columns: [Transaction_ID, Timestamp, Vehicle_Type, FastagID, TollBoothID, Lane_Type, Vehicle_Dimensions, Transaction_Amount, Amount_paid, Geographical_Location, Vehicle_Speed, Vehicle_Plate_Number, Fraud_indicator]\n",
       "Index: []"
      ]
     },
     "execution_count": 208,
     "metadata": {},
     "output_type": "execute_result"
    }
   ],
   "source": [
    "df[df.duplicated()]\n",
    "\n",
    "# No duplicates found"
   ]
  },
  {
   "cell_type": "markdown",
   "id": "c2daaaf4",
   "metadata": {},
   "source": [
    "<!-- --- -->"
   ]
  },
  {
   "cell_type": "code",
   "execution_count": 209,
   "id": "1bd4d3d1",
   "metadata": {},
   "outputs": [
    {
     "data": {
      "text/plain": [
       "['Transaction_ID',\n",
       " 'Timestamp',\n",
       " 'Vehicle_Type',\n",
       " 'FastagID',\n",
       " 'TollBoothID',\n",
       " 'Lane_Type',\n",
       " 'Vehicle_Dimensions',\n",
       " 'Transaction_Amount',\n",
       " 'Amount_paid',\n",
       " 'Geographical_Location',\n",
       " 'Vehicle_Speed',\n",
       " 'Vehicle_Plate_Number',\n",
       " 'Fraud_indicator']"
      ]
     },
     "execution_count": 209,
     "metadata": {},
     "output_type": "execute_result"
    }
   ],
   "source": [
    "list(df.columns)"
   ]
  },
  {
   "cell_type": "markdown",
   "id": "b89c9238",
   "metadata": {},
   "source": [
    "<!-- ---- -->"
   ]
  },
  {
   "cell_type": "markdown",
   "id": "6b3bf643",
   "metadata": {},
   "source": [
    "CATEGORICAL COLUMNS WITH DISCRETE VALUES"
   ]
  },
  {
   "cell_type": "code",
   "execution_count": 210,
   "id": "b1a054c8",
   "metadata": {},
   "outputs": [
    {
     "name": "stdout",
     "output_type": "stream",
     "text": [
      "Vehicle_Type\n",
      "Bus           716\n",
      "Car           714\n",
      "Truck         714\n",
      "Van           714\n",
      "Sedan         714\n",
      "SUV           714\n",
      "Motorcycle    165\n",
      "Name: count, dtype: int64 \n",
      "\n",
      "------------------\n",
      "TollBoothID\n",
      "B-102    1432\n",
      "A-101    1428\n",
      "C-103    1426\n",
      "D-106     165\n",
      "Name: count, dtype: int64 \n",
      "\n",
      "------------------\n",
      "Lane_Type\n",
      "Regular    2309\n",
      "Express    2142\n",
      "Name: count, dtype: int64 \n",
      "\n",
      "------------------\n",
      "Vehicle_Dimensions\n",
      "Large     2144\n",
      "Medium    1428\n",
      "Small      879\n",
      "Name: count, dtype: int64 \n",
      "\n",
      "------------------\n",
      "Geographical_Location\n",
      "12.84197701525119, 77.67547528176169     927\n",
      "12.936687032945434, 77.53113977439017    927\n",
      "13.21331620748757, 77.55413526894684     880\n",
      "13.042660878688794, 77.47580097259879    861\n",
      "13.059816123454882, 77.77068662374292    856\n",
      "Name: count, dtype: int64 \n",
      "\n",
      "------------------\n",
      "Fraud_indicator\n",
      "Not Fraud    3468\n",
      "Fraud         983\n",
      "Name: count, dtype: int64 \n",
      "\n",
      "------------------\n"
     ]
    }
   ],
   "source": [
    "value_counts = [col for col in df.select_dtypes(include='object') if col not in ['FastagID'  , 'Vehicle_Plate_Number' , 'Timestamp']]\n",
    "\n",
    "for col in value_counts:\n",
    "    print(df[col].value_counts() , '\\n')\n",
    "    print('------------------')"
   ]
  },
  {
   "cell_type": "markdown",
   "id": "8727790b",
   "metadata": {},
   "source": [
    "<!-- ---- -->"
   ]
  },
  {
   "cell_type": "markdown",
   "id": "cff38446",
   "metadata": {},
   "source": [
    "# FEATURE ENGINEERING"
   ]
  },
  {
   "cell_type": "markdown",
   "id": "a69503dd",
   "metadata": {},
   "source": [
    "<!-- - -->"
   ]
  },
  {
   "cell_type": "markdown",
   "id": "25dbde12",
   "metadata": {},
   "source": [
    "EXTRACTING RELEVANT FEATURES"
   ]
  },
  {
   "cell_type": "code",
   "execution_count": 211,
   "id": "99719bae",
   "metadata": {},
   "outputs": [],
   "source": [
    "df['Timestamp'] = pd.to_datetime(df['Timestamp'])\n",
    "\n",
    "\n",
    "df['day'] = df['Timestamp'].dt.day\n",
    "df['month'] = df['Timestamp'].dt.month\n",
    "df['year'] = df['Timestamp'].dt.year \n",
    "df['DayOfWeek'] = df['Timestamp'].dt.dayofweek #i.e Monday = 0 , Tuesday = 1 ...\n",
    "\n",
    "df['is_Weekend'] = df['DayOfWeek'].apply(lambda x : 1 if x in [5 , 6] else 0)"
   ]
  },
  {
   "cell_type": "code",
   "execution_count": 212,
   "id": "0a85b496",
   "metadata": {},
   "outputs": [],
   "source": [
    "df['State_code']  = df['Vehicle_Plate_Number'].str[:2]"
   ]
  },
  {
   "cell_type": "markdown",
   "id": "e34adfbb",
   "metadata": {},
   "source": [
    "<!-- ----- -->"
   ]
  },
  {
   "cell_type": "markdown",
   "id": "fafd8892",
   "metadata": {},
   "source": [
    "DROPPING IRRELEVANT COLUMNS"
   ]
  },
  {
   "cell_type": "code",
   "execution_count": 213,
   "id": "974833d8",
   "metadata": {},
   "outputs": [],
   "source": [
    "df.drop(columns = ['Transaction_ID' , 'Vehicle_Plate_Number' , 'year' , 'Timestamp' , 'Geographical_Location' , 'FastagID'] , axis = 1 ,  inplace=True)"
   ]
  },
  {
   "cell_type": "markdown",
   "id": "8ff2a0a2",
   "metadata": {},
   "source": [
    "<!-- --------- -->"
   ]
  },
  {
   "cell_type": "markdown",
   "id": "872cc4b1",
   "metadata": {},
   "source": [
    "CHECKING EACH TYPE OF COLUMN"
   ]
  },
  {
   "cell_type": "code",
   "execution_count": 214,
   "id": "a921e385",
   "metadata": {},
   "outputs": [
    {
     "name": "stdout",
     "output_type": "stream",
     "text": [
      "There are total : 13 columns\n",
      "\n",
      "There are total 6 categorical columns :  ['Vehicle_Type', 'TollBoothID', 'Lane_Type', 'Vehicle_Dimensions', 'Fraud_indicator', 'State_code'] \n",
      "\n",
      "There are total 7 numerical columns :  ['Transaction_Amount', 'Amount_paid', 'Vehicle_Speed', 'day', 'month', 'DayOfWeek', 'is_Weekend']\n"
     ]
    }
   ],
   "source": [
    "print('There are total :' , len(df.columns) , 'columns' '\\n')\n",
    "\n",
    "\n",
    "categorical_col = df.select_dtypes(include='object').columns.to_list()\n",
    "\n",
    "numerical_col = df.select_dtypes(exclude='object').columns.to_list()\n",
    "\n",
    "\n",
    "print(f'There are total {len(categorical_col)} categorical columns : ' , categorical_col , '\\n')\n",
    "\n",
    "print(f'There are total {len(numerical_col)} numerical columns : '  , numerical_col)"
   ]
  },
  {
   "cell_type": "markdown",
   "id": "a2f3234c",
   "metadata": {},
   "source": [
    "<!-- -------- -->"
   ]
  },
  {
   "cell_type": "markdown",
   "id": "373c4c92",
   "metadata": {},
   "source": [
    "CHECKING FOR DUPLICATES AFTER REMOVAL OF VEHICLE PLATE NUMBER AND REMOVING IF ANY"
   ]
  },
  {
   "cell_type": "code",
   "execution_count": 215,
   "id": "47727914",
   "metadata": {},
   "outputs": [
    {
     "data": {
      "text/html": [
       "<div>\n",
       "<style scoped>\n",
       "    .dataframe tbody tr th:only-of-type {\n",
       "        vertical-align: middle;\n",
       "    }\n",
       "\n",
       "    .dataframe tbody tr th {\n",
       "        vertical-align: top;\n",
       "    }\n",
       "\n",
       "    .dataframe thead th {\n",
       "        text-align: right;\n",
       "    }\n",
       "</style>\n",
       "<table border=\"1\" class=\"dataframe\">\n",
       "  <thead>\n",
       "    <tr style=\"text-align: right;\">\n",
       "      <th></th>\n",
       "      <th>Vehicle_Type</th>\n",
       "      <th>TollBoothID</th>\n",
       "      <th>Lane_Type</th>\n",
       "      <th>Vehicle_Dimensions</th>\n",
       "      <th>Transaction_Amount</th>\n",
       "      <th>Amount_paid</th>\n",
       "      <th>Vehicle_Speed</th>\n",
       "      <th>Fraud_indicator</th>\n",
       "      <th>day</th>\n",
       "      <th>month</th>\n",
       "      <th>DayOfWeek</th>\n",
       "      <th>is_Weekend</th>\n",
       "      <th>State_code</th>\n",
       "    </tr>\n",
       "  </thead>\n",
       "  <tbody>\n",
       "    <tr>\n",
       "      <th>1461</th>\n",
       "      <td>Sedan</td>\n",
       "      <td>A-101</td>\n",
       "      <td>Regular</td>\n",
       "      <td>Medium</td>\n",
       "      <td>120</td>\n",
       "      <td>120</td>\n",
       "      <td>81</td>\n",
       "      <td>Not Fraud</td>\n",
       "      <td>15</td>\n",
       "      <td>5</td>\n",
       "      <td>0</td>\n",
       "      <td>0</td>\n",
       "      <td>KA</td>\n",
       "    </tr>\n",
       "    <tr>\n",
       "      <th>1478</th>\n",
       "      <td>Car</td>\n",
       "      <td>A-101</td>\n",
       "      <td>Express</td>\n",
       "      <td>Small</td>\n",
       "      <td>100</td>\n",
       "      <td>100</td>\n",
       "      <td>45</td>\n",
       "      <td>Not Fraud</td>\n",
       "      <td>1</td>\n",
       "      <td>6</td>\n",
       "      <td>3</td>\n",
       "      <td>0</td>\n",
       "      <td>KA</td>\n",
       "    </tr>\n",
       "    <tr>\n",
       "      <th>1491</th>\n",
       "      <td>Bus</td>\n",
       "      <td>C-103</td>\n",
       "      <td>Regular</td>\n",
       "      <td>Large</td>\n",
       "      <td>340</td>\n",
       "      <td>340</td>\n",
       "      <td>82</td>\n",
       "      <td>Not Fraud</td>\n",
       "      <td>14</td>\n",
       "      <td>6</td>\n",
       "      <td>2</td>\n",
       "      <td>0</td>\n",
       "      <td>KA</td>\n",
       "    </tr>\n",
       "    <tr>\n",
       "      <th>2202</th>\n",
       "      <td>Van</td>\n",
       "      <td>B-102</td>\n",
       "      <td>Express</td>\n",
       "      <td>Medium</td>\n",
       "      <td>125</td>\n",
       "      <td>125</td>\n",
       "      <td>61</td>\n",
       "      <td>Not Fraud</td>\n",
       "      <td>11</td>\n",
       "      <td>9</td>\n",
       "      <td>0</td>\n",
       "      <td>0</td>\n",
       "      <td>GA</td>\n",
       "    </tr>\n",
       "    <tr>\n",
       "      <th>2529</th>\n",
       "      <td>Car</td>\n",
       "      <td>A-101</td>\n",
       "      <td>Regular</td>\n",
       "      <td>Small</td>\n",
       "      <td>120</td>\n",
       "      <td>120</td>\n",
       "      <td>82</td>\n",
       "      <td>Not Fraud</td>\n",
       "      <td>6</td>\n",
       "      <td>1</td>\n",
       "      <td>4</td>\n",
       "      <td>0</td>\n",
       "      <td>KA</td>\n",
       "    </tr>\n",
       "    <tr>\n",
       "      <th>2606</th>\n",
       "      <td>Car</td>\n",
       "      <td>A-101</td>\n",
       "      <td>Express</td>\n",
       "      <td>Small</td>\n",
       "      <td>120</td>\n",
       "      <td>120</td>\n",
       "      <td>48</td>\n",
       "      <td>Not Fraud</td>\n",
       "      <td>5</td>\n",
       "      <td>5</td>\n",
       "      <td>4</td>\n",
       "      <td>0</td>\n",
       "      <td>KA</td>\n",
       "    </tr>\n",
       "    <tr>\n",
       "      <th>4261</th>\n",
       "      <td>Van</td>\n",
       "      <td>B-102</td>\n",
       "      <td>Regular</td>\n",
       "      <td>Medium</td>\n",
       "      <td>120</td>\n",
       "      <td>120</td>\n",
       "      <td>43</td>\n",
       "      <td>Not Fraud</td>\n",
       "      <td>23</td>\n",
       "      <td>10</td>\n",
       "      <td>0</td>\n",
       "      <td>0</td>\n",
       "      <td>KA</td>\n",
       "    </tr>\n",
       "  </tbody>\n",
       "</table>\n",
       "</div>"
      ],
      "text/plain": [
       "     Vehicle_Type TollBoothID Lane_Type Vehicle_Dimensions  \\\n",
       "1461        Sedan       A-101   Regular             Medium   \n",
       "1478          Car       A-101   Express              Small   \n",
       "1491         Bus        C-103   Regular              Large   \n",
       "2202          Van       B-102   Express             Medium   \n",
       "2529          Car       A-101   Regular              Small   \n",
       "2606          Car       A-101   Express              Small   \n",
       "4261          Van       B-102   Regular             Medium   \n",
       "\n",
       "      Transaction_Amount  Amount_paid  Vehicle_Speed Fraud_indicator  day  \\\n",
       "1461                 120          120             81       Not Fraud   15   \n",
       "1478                 100          100             45       Not Fraud    1   \n",
       "1491                 340          340             82       Not Fraud   14   \n",
       "2202                 125          125             61       Not Fraud   11   \n",
       "2529                 120          120             82       Not Fraud    6   \n",
       "2606                 120          120             48       Not Fraud    5   \n",
       "4261                 120          120             43       Not Fraud   23   \n",
       "\n",
       "      month  DayOfWeek  is_Weekend State_code  \n",
       "1461      5          0           0         KA  \n",
       "1478      6          3           0         KA  \n",
       "1491      6          2           0         KA  \n",
       "2202      9          0           0         GA  \n",
       "2529      1          4           0         KA  \n",
       "2606      5          4           0         KA  \n",
       "4261     10          0           0         KA  "
      ]
     },
     "execution_count": 215,
     "metadata": {},
     "output_type": "execute_result"
    }
   ],
   "source": [
    "df[df.duplicated()]"
   ]
  },
  {
   "cell_type": "code",
   "execution_count": 216,
   "id": "8889ffb4",
   "metadata": {},
   "outputs": [
    {
     "name": "stdout",
     "output_type": "stream",
     "text": [
      "There are : 7 duplicated rows now\n"
     ]
    }
   ],
   "source": [
    "print(\"There are :\" , df.duplicated().sum() , \"duplicated rows now\")"
   ]
  },
  {
   "cell_type": "code",
   "execution_count": 217,
   "id": "108071cf",
   "metadata": {},
   "outputs": [],
   "source": [
    "df.drop_duplicates(inplace=True)"
   ]
  },
  {
   "cell_type": "markdown",
   "id": "a1fd5e79",
   "metadata": {},
   "source": [
    "<!-- ---- -->"
   ]
  },
  {
   "cell_type": "markdown",
   "id": "52809242",
   "metadata": {},
   "source": [
    "SHAPE OF DATA AFTER REMOVING MISSSING VALUES AS WELL AS DUPLICATES"
   ]
  },
  {
   "cell_type": "code",
   "execution_count": 218,
   "id": "0985eb4f",
   "metadata": {},
   "outputs": [
    {
     "data": {
      "text/plain": [
       "(4444, 13)"
      ]
     },
     "execution_count": 218,
     "metadata": {},
     "output_type": "execute_result"
    }
   ],
   "source": [
    "df.shape"
   ]
  },
  {
   "cell_type": "markdown",
   "id": "43921890",
   "metadata": {},
   "source": [
    "<!-- -------------- -->"
   ]
  },
  {
   "cell_type": "markdown",
   "id": "3b57f6da",
   "metadata": {},
   "source": [
    "COLUMNS"
   ]
  },
  {
   "cell_type": "code",
   "execution_count": 219,
   "id": "9c2702e2",
   "metadata": {},
   "outputs": [
    {
     "name": "stdout",
     "output_type": "stream",
     "text": [
      "Final set of columns :  ['Vehicle_Type', 'TollBoothID', 'Lane_Type', 'Vehicle_Dimensions', 'Transaction_Amount', 'Amount_paid', 'Vehicle_Speed', 'Fraud_indicator', 'day', 'month', 'DayOfWeek', 'is_Weekend', 'State_code']\n"
     ]
    }
   ],
   "source": [
    "print('Final set of columns : ', list(df.columns))"
   ]
  },
  {
   "cell_type": "markdown",
   "id": "ef0aa85d",
   "metadata": {},
   "source": [
    "<!-- ---- -->"
   ]
  },
  {
   "cell_type": "markdown",
   "id": "d3201ee4",
   "metadata": {},
   "source": [
    "FINAL CLEANED DATASET"
   ]
  },
  {
   "cell_type": "code",
   "execution_count": 220,
   "id": "719212c0",
   "metadata": {},
   "outputs": [
    {
     "data": {
      "text/html": [
       "<div>\n",
       "<style scoped>\n",
       "    .dataframe tbody tr th:only-of-type {\n",
       "        vertical-align: middle;\n",
       "    }\n",
       "\n",
       "    .dataframe tbody tr th {\n",
       "        vertical-align: top;\n",
       "    }\n",
       "\n",
       "    .dataframe thead th {\n",
       "        text-align: right;\n",
       "    }\n",
       "</style>\n",
       "<table border=\"1\" class=\"dataframe\">\n",
       "  <thead>\n",
       "    <tr style=\"text-align: right;\">\n",
       "      <th></th>\n",
       "      <th>Vehicle_Type</th>\n",
       "      <th>TollBoothID</th>\n",
       "      <th>Lane_Type</th>\n",
       "      <th>Vehicle_Dimensions</th>\n",
       "      <th>Transaction_Amount</th>\n",
       "      <th>Amount_paid</th>\n",
       "      <th>Vehicle_Speed</th>\n",
       "      <th>Fraud_indicator</th>\n",
       "      <th>day</th>\n",
       "      <th>month</th>\n",
       "      <th>DayOfWeek</th>\n",
       "      <th>is_Weekend</th>\n",
       "      <th>State_code</th>\n",
       "    </tr>\n",
       "  </thead>\n",
       "  <tbody>\n",
       "    <tr>\n",
       "      <th>0</th>\n",
       "      <td>Bus</td>\n",
       "      <td>A-101</td>\n",
       "      <td>Express</td>\n",
       "      <td>Large</td>\n",
       "      <td>350</td>\n",
       "      <td>120</td>\n",
       "      <td>65</td>\n",
       "      <td>Fraud</td>\n",
       "      <td>6</td>\n",
       "      <td>1</td>\n",
       "      <td>4</td>\n",
       "      <td>0</td>\n",
       "      <td>KA</td>\n",
       "    </tr>\n",
       "    <tr>\n",
       "      <th>1</th>\n",
       "      <td>Car</td>\n",
       "      <td>B-102</td>\n",
       "      <td>Regular</td>\n",
       "      <td>Small</td>\n",
       "      <td>120</td>\n",
       "      <td>100</td>\n",
       "      <td>78</td>\n",
       "      <td>Fraud</td>\n",
       "      <td>7</td>\n",
       "      <td>1</td>\n",
       "      <td>5</td>\n",
       "      <td>1</td>\n",
       "      <td>KA</td>\n",
       "    </tr>\n",
       "  </tbody>\n",
       "</table>\n",
       "</div>"
      ],
      "text/plain": [
       "  Vehicle_Type TollBoothID Lane_Type Vehicle_Dimensions  Transaction_Amount  \\\n",
       "0         Bus        A-101   Express              Large                 350   \n",
       "1          Car       B-102   Regular              Small                 120   \n",
       "\n",
       "   Amount_paid  Vehicle_Speed Fraud_indicator  day  month  DayOfWeek  \\\n",
       "0          120             65           Fraud    6      1          4   \n",
       "1          100             78           Fraud    7      1          5   \n",
       "\n",
       "   is_Weekend State_code  \n",
       "0           0         KA  \n",
       "1           1         KA  "
      ]
     },
     "execution_count": 220,
     "metadata": {},
     "output_type": "execute_result"
    }
   ],
   "source": [
    "df.head(2)"
   ]
  },
  {
   "cell_type": "code",
   "execution_count": 223,
   "id": "2ae55dc1",
   "metadata": {},
   "outputs": [
    {
     "data": {
      "text/plain": [
       "(4444, 13)"
      ]
     },
     "execution_count": 223,
     "metadata": {},
     "output_type": "execute_result"
    }
   ],
   "source": [
    "df.shape"
   ]
  },
  {
   "cell_type": "code",
   "execution_count": null,
   "id": "69a1cc05",
   "metadata": {},
   "outputs": [],
   "source": [
    "df.to_csv('cleaned_data.csv' , index = False)"
   ]
  },
  {
   "cell_type": "code",
   "execution_count": null,
   "id": "490e26cd",
   "metadata": {},
   "outputs": [],
   "source": []
  }
 ],
 "metadata": {
  "language_info": {
   "name": "python"
  }
 },
 "nbformat": 4,
 "nbformat_minor": 5
}
